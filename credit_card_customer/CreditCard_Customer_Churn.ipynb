{
  "nbformat": 4,
  "nbformat_minor": 0,
  "metadata": {
    "colab": {
      "provenance": []
    },
    "kernelspec": {
      "name": "python3",
      "display_name": "Python 3"
    },
    "language_info": {
      "name": "python"
    }
  },
  "cells": [
    {
      "cell_type": "markdown",
      "metadata": {
        "id": "view-in-github"
      },
      "source": [
        "<a href=\"https://colab.research.google.com/github/nhtusci/Creditcard-Customer-Churn-Sklearn/blob/main/CreditCard_Customer_Churn.ipynb\" target=\"_parent\"><img src=\"https://colab.research.google.com/assets/colab-badge.svg\" alt=\"Open In Colab\"/></a>"
      ]
    },
    {
      "cell_type": "code",
      "source": [
        "import numpy as np # linear algebra\n",
        "import pandas as pd # data processing, CSV file I/O (e.g. pd.read_csv)\n",
        "import matplotlib.pyplot as plt #Data Visualization\n",
        "import seaborn as sns  #Python library for Vidualization\n",
        "import os\n",
        "from sklearn.cluster import KMeans\n",
        "from sklearn.metrics import silhouette_score"
      ],
      "metadata": {
        "id": "rDdnt0jSTtF1"
      },
      "execution_count": 95,
      "outputs": []
    },
    {
      "cell_type": "code",
      "source": [
        "from google.colab import drive\n",
        "drive.mount('/content/drive')"
      ],
      "metadata": {
        "colab": {
          "base_uri": "https://localhost:8080/"
        },
        "id": "HFcKy_EdoHaT",
        "outputId": "fc691de2-6f26-42b9-f51e-760577b692fa"
      },
      "execution_count": 55,
      "outputs": [
        {
          "output_type": "stream",
          "name": "stdout",
          "text": [
            "Drive already mounted at /content/drive; to attempt to forcibly remount, call drive.mount(\"/content/drive\", force_remount=True).\n"
          ]
        }
      ]
    },
    {
      "cell_type": "code",
      "source": [
        "#import dataset\n",
        "df = pd.read_csv('/content/drive/MyDrive/dataset/Mall_Customers.csv')\n",
        "df.head()"
      ],
      "metadata": {
        "colab": {
          "base_uri": "https://localhost:8080/",
          "height": 206
        },
        "id": "dZIBgnNTT8Vs",
        "outputId": "8b660e34-4fe7-4a5b-c986-41ecbb0444da"
      },
      "execution_count": 56,
      "outputs": [
        {
          "output_type": "execute_result",
          "data": {
            "text/plain": [
              "   CustomerID  Gender  Age  Annual Income (k$)  Spending Score (1-100)\n",
              "0           1    Male   19                  15                      39\n",
              "1           2    Male   21                  15                      81\n",
              "2           3  Female   20                  16                       6\n",
              "3           4  Female   23                  16                      77\n",
              "4           5  Female   31                  17                      40"
            ],
            "text/html": [
              "\n",
              "  <div id=\"df-2e3b0934-3e3a-4152-b29a-b399ff79f560\" class=\"colab-df-container\">\n",
              "    <div>\n",
              "<style scoped>\n",
              "    .dataframe tbody tr th:only-of-type {\n",
              "        vertical-align: middle;\n",
              "    }\n",
              "\n",
              "    .dataframe tbody tr th {\n",
              "        vertical-align: top;\n",
              "    }\n",
              "\n",
              "    .dataframe thead th {\n",
              "        text-align: right;\n",
              "    }\n",
              "</style>\n",
              "<table border=\"1\" class=\"dataframe\">\n",
              "  <thead>\n",
              "    <tr style=\"text-align: right;\">\n",
              "      <th></th>\n",
              "      <th>CustomerID</th>\n",
              "      <th>Gender</th>\n",
              "      <th>Age</th>\n",
              "      <th>Annual Income (k$)</th>\n",
              "      <th>Spending Score (1-100)</th>\n",
              "    </tr>\n",
              "  </thead>\n",
              "  <tbody>\n",
              "    <tr>\n",
              "      <th>0</th>\n",
              "      <td>1</td>\n",
              "      <td>Male</td>\n",
              "      <td>19</td>\n",
              "      <td>15</td>\n",
              "      <td>39</td>\n",
              "    </tr>\n",
              "    <tr>\n",
              "      <th>1</th>\n",
              "      <td>2</td>\n",
              "      <td>Male</td>\n",
              "      <td>21</td>\n",
              "      <td>15</td>\n",
              "      <td>81</td>\n",
              "    </tr>\n",
              "    <tr>\n",
              "      <th>2</th>\n",
              "      <td>3</td>\n",
              "      <td>Female</td>\n",
              "      <td>20</td>\n",
              "      <td>16</td>\n",
              "      <td>6</td>\n",
              "    </tr>\n",
              "    <tr>\n",
              "      <th>3</th>\n",
              "      <td>4</td>\n",
              "      <td>Female</td>\n",
              "      <td>23</td>\n",
              "      <td>16</td>\n",
              "      <td>77</td>\n",
              "    </tr>\n",
              "    <tr>\n",
              "      <th>4</th>\n",
              "      <td>5</td>\n",
              "      <td>Female</td>\n",
              "      <td>31</td>\n",
              "      <td>17</td>\n",
              "      <td>40</td>\n",
              "    </tr>\n",
              "  </tbody>\n",
              "</table>\n",
              "</div>\n",
              "    <div class=\"colab-df-buttons\">\n",
              "\n",
              "  <div class=\"colab-df-container\">\n",
              "    <button class=\"colab-df-convert\" onclick=\"convertToInteractive('df-2e3b0934-3e3a-4152-b29a-b399ff79f560')\"\n",
              "            title=\"Convert this dataframe to an interactive table.\"\n",
              "            style=\"display:none;\">\n",
              "\n",
              "  <svg xmlns=\"http://www.w3.org/2000/svg\" height=\"24px\" viewBox=\"0 -960 960 960\">\n",
              "    <path d=\"M120-120v-720h720v720H120Zm60-500h600v-160H180v160Zm220 220h160v-160H400v160Zm0 220h160v-160H400v160ZM180-400h160v-160H180v160Zm440 0h160v-160H620v160ZM180-180h160v-160H180v160Zm440 0h160v-160H620v160Z\"/>\n",
              "  </svg>\n",
              "    </button>\n",
              "\n",
              "  <style>\n",
              "    .colab-df-container {\n",
              "      display:flex;\n",
              "      gap: 12px;\n",
              "    }\n",
              "\n",
              "    .colab-df-convert {\n",
              "      background-color: #E8F0FE;\n",
              "      border: none;\n",
              "      border-radius: 50%;\n",
              "      cursor: pointer;\n",
              "      display: none;\n",
              "      fill: #1967D2;\n",
              "      height: 32px;\n",
              "      padding: 0 0 0 0;\n",
              "      width: 32px;\n",
              "    }\n",
              "\n",
              "    .colab-df-convert:hover {\n",
              "      background-color: #E2EBFA;\n",
              "      box-shadow: 0px 1px 2px rgba(60, 64, 67, 0.3), 0px 1px 3px 1px rgba(60, 64, 67, 0.15);\n",
              "      fill: #174EA6;\n",
              "    }\n",
              "\n",
              "    .colab-df-buttons div {\n",
              "      margin-bottom: 4px;\n",
              "    }\n",
              "\n",
              "    [theme=dark] .colab-df-convert {\n",
              "      background-color: #3B4455;\n",
              "      fill: #D2E3FC;\n",
              "    }\n",
              "\n",
              "    [theme=dark] .colab-df-convert:hover {\n",
              "      background-color: #434B5C;\n",
              "      box-shadow: 0px 1px 3px 1px rgba(0, 0, 0, 0.15);\n",
              "      filter: drop-shadow(0px 1px 2px rgba(0, 0, 0, 0.3));\n",
              "      fill: #FFFFFF;\n",
              "    }\n",
              "  </style>\n",
              "\n",
              "    <script>\n",
              "      const buttonEl =\n",
              "        document.querySelector('#df-2e3b0934-3e3a-4152-b29a-b399ff79f560 button.colab-df-convert');\n",
              "      buttonEl.style.display =\n",
              "        google.colab.kernel.accessAllowed ? 'block' : 'none';\n",
              "\n",
              "      async function convertToInteractive(key) {\n",
              "        const element = document.querySelector('#df-2e3b0934-3e3a-4152-b29a-b399ff79f560');\n",
              "        const dataTable =\n",
              "          await google.colab.kernel.invokeFunction('convertToInteractive',\n",
              "                                                    [key], {});\n",
              "        if (!dataTable) return;\n",
              "\n",
              "        const docLinkHtml = 'Like what you see? Visit the ' +\n",
              "          '<a target=\"_blank\" href=https://colab.research.google.com/notebooks/data_table.ipynb>data table notebook</a>'\n",
              "          + ' to learn more about interactive tables.';\n",
              "        element.innerHTML = '';\n",
              "        dataTable['output_type'] = 'display_data';\n",
              "        await google.colab.output.renderOutput(dataTable, element);\n",
              "        const docLink = document.createElement('div');\n",
              "        docLink.innerHTML = docLinkHtml;\n",
              "        element.appendChild(docLink);\n",
              "      }\n",
              "    </script>\n",
              "  </div>\n",
              "\n",
              "\n",
              "<div id=\"df-22778a6c-5daf-4a47-b06b-6b33bcd82522\">\n",
              "  <button class=\"colab-df-quickchart\" onclick=\"quickchart('df-22778a6c-5daf-4a47-b06b-6b33bcd82522')\"\n",
              "            title=\"Suggest charts\"\n",
              "            style=\"display:none;\">\n",
              "\n",
              "<svg xmlns=\"http://www.w3.org/2000/svg\" height=\"24px\"viewBox=\"0 0 24 24\"\n",
              "     width=\"24px\">\n",
              "    <g>\n",
              "        <path d=\"M19 3H5c-1.1 0-2 .9-2 2v14c0 1.1.9 2 2 2h14c1.1 0 2-.9 2-2V5c0-1.1-.9-2-2-2zM9 17H7v-7h2v7zm4 0h-2V7h2v10zm4 0h-2v-4h2v4z\"/>\n",
              "    </g>\n",
              "</svg>\n",
              "  </button>\n",
              "\n",
              "<style>\n",
              "  .colab-df-quickchart {\n",
              "      --bg-color: #E8F0FE;\n",
              "      --fill-color: #1967D2;\n",
              "      --hover-bg-color: #E2EBFA;\n",
              "      --hover-fill-color: #174EA6;\n",
              "      --disabled-fill-color: #AAA;\n",
              "      --disabled-bg-color: #DDD;\n",
              "  }\n",
              "\n",
              "  [theme=dark] .colab-df-quickchart {\n",
              "      --bg-color: #3B4455;\n",
              "      --fill-color: #D2E3FC;\n",
              "      --hover-bg-color: #434B5C;\n",
              "      --hover-fill-color: #FFFFFF;\n",
              "      --disabled-bg-color: #3B4455;\n",
              "      --disabled-fill-color: #666;\n",
              "  }\n",
              "\n",
              "  .colab-df-quickchart {\n",
              "    background-color: var(--bg-color);\n",
              "    border: none;\n",
              "    border-radius: 50%;\n",
              "    cursor: pointer;\n",
              "    display: none;\n",
              "    fill: var(--fill-color);\n",
              "    height: 32px;\n",
              "    padding: 0;\n",
              "    width: 32px;\n",
              "  }\n",
              "\n",
              "  .colab-df-quickchart:hover {\n",
              "    background-color: var(--hover-bg-color);\n",
              "    box-shadow: 0 1px 2px rgba(60, 64, 67, 0.3), 0 1px 3px 1px rgba(60, 64, 67, 0.15);\n",
              "    fill: var(--button-hover-fill-color);\n",
              "  }\n",
              "\n",
              "  .colab-df-quickchart-complete:disabled,\n",
              "  .colab-df-quickchart-complete:disabled:hover {\n",
              "    background-color: var(--disabled-bg-color);\n",
              "    fill: var(--disabled-fill-color);\n",
              "    box-shadow: none;\n",
              "  }\n",
              "\n",
              "  .colab-df-spinner {\n",
              "    border: 2px solid var(--fill-color);\n",
              "    border-color: transparent;\n",
              "    border-bottom-color: var(--fill-color);\n",
              "    animation:\n",
              "      spin 1s steps(1) infinite;\n",
              "  }\n",
              "\n",
              "  @keyframes spin {\n",
              "    0% {\n",
              "      border-color: transparent;\n",
              "      border-bottom-color: var(--fill-color);\n",
              "      border-left-color: var(--fill-color);\n",
              "    }\n",
              "    20% {\n",
              "      border-color: transparent;\n",
              "      border-left-color: var(--fill-color);\n",
              "      border-top-color: var(--fill-color);\n",
              "    }\n",
              "    30% {\n",
              "      border-color: transparent;\n",
              "      border-left-color: var(--fill-color);\n",
              "      border-top-color: var(--fill-color);\n",
              "      border-right-color: var(--fill-color);\n",
              "    }\n",
              "    40% {\n",
              "      border-color: transparent;\n",
              "      border-right-color: var(--fill-color);\n",
              "      border-top-color: var(--fill-color);\n",
              "    }\n",
              "    60% {\n",
              "      border-color: transparent;\n",
              "      border-right-color: var(--fill-color);\n",
              "    }\n",
              "    80% {\n",
              "      border-color: transparent;\n",
              "      border-right-color: var(--fill-color);\n",
              "      border-bottom-color: var(--fill-color);\n",
              "    }\n",
              "    90% {\n",
              "      border-color: transparent;\n",
              "      border-bottom-color: var(--fill-color);\n",
              "    }\n",
              "  }\n",
              "</style>\n",
              "\n",
              "  <script>\n",
              "    async function quickchart(key) {\n",
              "      const quickchartButtonEl =\n",
              "        document.querySelector('#' + key + ' button');\n",
              "      quickchartButtonEl.disabled = true;  // To prevent multiple clicks.\n",
              "      quickchartButtonEl.classList.add('colab-df-spinner');\n",
              "      try {\n",
              "        const charts = await google.colab.kernel.invokeFunction(\n",
              "            'suggestCharts', [key], {});\n",
              "      } catch (error) {\n",
              "        console.error('Error during call to suggestCharts:', error);\n",
              "      }\n",
              "      quickchartButtonEl.classList.remove('colab-df-spinner');\n",
              "      quickchartButtonEl.classList.add('colab-df-quickchart-complete');\n",
              "    }\n",
              "    (() => {\n",
              "      let quickchartButtonEl =\n",
              "        document.querySelector('#df-22778a6c-5daf-4a47-b06b-6b33bcd82522 button');\n",
              "      quickchartButtonEl.style.display =\n",
              "        google.colab.kernel.accessAllowed ? 'block' : 'none';\n",
              "    })();\n",
              "  </script>\n",
              "</div>\n",
              "\n",
              "    </div>\n",
              "  </div>\n"
            ],
            "application/vnd.google.colaboratory.intrinsic+json": {
              "type": "dataframe",
              "variable_name": "df",
              "summary": "{\n  \"name\": \"df\",\n  \"rows\": 200,\n  \"fields\": [\n    {\n      \"column\": \"CustomerID\",\n      \"properties\": {\n        \"dtype\": \"number\",\n        \"std\": 57,\n        \"min\": 1,\n        \"max\": 200,\n        \"num_unique_values\": 200,\n        \"samples\": [\n          96,\n          16,\n          31\n        ],\n        \"semantic_type\": \"\",\n        \"description\": \"\"\n      }\n    },\n    {\n      \"column\": \"Gender\",\n      \"properties\": {\n        \"dtype\": \"category\",\n        \"num_unique_values\": 2,\n        \"samples\": [\n          \"Female\",\n          \"Male\"\n        ],\n        \"semantic_type\": \"\",\n        \"description\": \"\"\n      }\n    },\n    {\n      \"column\": \"Age\",\n      \"properties\": {\n        \"dtype\": \"number\",\n        \"std\": 13,\n        \"min\": 18,\n        \"max\": 70,\n        \"num_unique_values\": 51,\n        \"samples\": [\n          55,\n          26\n        ],\n        \"semantic_type\": \"\",\n        \"description\": \"\"\n      }\n    },\n    {\n      \"column\": \"Annual Income (k$)\",\n      \"properties\": {\n        \"dtype\": \"number\",\n        \"std\": 26,\n        \"min\": 15,\n        \"max\": 137,\n        \"num_unique_values\": 64,\n        \"samples\": [\n          87,\n          101\n        ],\n        \"semantic_type\": \"\",\n        \"description\": \"\"\n      }\n    },\n    {\n      \"column\": \"Spending Score (1-100)\",\n      \"properties\": {\n        \"dtype\": \"number\",\n        \"std\": 25,\n        \"min\": 1,\n        \"max\": 99,\n        \"num_unique_values\": 84,\n        \"samples\": [\n          83,\n          39\n        ],\n        \"semantic_type\": \"\",\n        \"description\": \"\"\n      }\n    }\n  ]\n}"
            }
          },
          "metadata": {},
          "execution_count": 56
        }
      ]
    },
    {
      "cell_type": "markdown",
      "source": [
        "# Data Preprocessing"
      ],
      "metadata": {
        "id": "DoZNJoSuVKhd"
      }
    },
    {
      "cell_type": "code",
      "source": [
        "#total rows and colums in the dataset\n",
        "df.shape"
      ],
      "metadata": {
        "colab": {
          "base_uri": "https://localhost:8080/"
        },
        "id": "CUhGNm6wVxVt",
        "outputId": "beda11be-996e-4526-e46b-afa430775059"
      },
      "execution_count": 58,
      "outputs": [
        {
          "output_type": "execute_result",
          "data": {
            "text/plain": [
              "(200, 5)"
            ]
          },
          "metadata": {},
          "execution_count": 58
        }
      ]
    },
    {
      "cell_type": "code",
      "source": [
        "df.info() # there are no missing values as all the columns has 200 entries properly"
      ],
      "metadata": {
        "colab": {
          "base_uri": "https://localhost:8080/"
        },
        "id": "dc8Q2yMf2yBY",
        "outputId": "3c48767b-005c-4bce-8070-7248eb11d28c"
      },
      "execution_count": 59,
      "outputs": [
        {
          "output_type": "stream",
          "name": "stdout",
          "text": [
            "<class 'pandas.core.frame.DataFrame'>\n",
            "RangeIndex: 200 entries, 0 to 199\n",
            "Data columns (total 5 columns):\n",
            " #   Column                  Non-Null Count  Dtype \n",
            "---  ------                  --------------  ----- \n",
            " 0   CustomerID              200 non-null    int64 \n",
            " 1   Gender                  200 non-null    object\n",
            " 2   Age                     200 non-null    int64 \n",
            " 3   Annual Income (k$)      200 non-null    int64 \n",
            " 4   Spending Score (1-100)  200 non-null    int64 \n",
            "dtypes: int64(4), object(1)\n",
            "memory usage: 7.9+ KB\n"
          ]
        }
      ]
    },
    {
      "cell_type": "code",
      "source": [
        "#Missing values computation\n",
        "df.isnull().sum()"
      ],
      "metadata": {
        "id": "MQyWkwKxGq8A",
        "outputId": "0cf60d51-7296-4d7b-d0f4-a4ae1b2ca11e",
        "colab": {
          "base_uri": "https://localhost:8080/",
          "height": 241
        }
      },
      "execution_count": 60,
      "outputs": [
        {
          "output_type": "execute_result",
          "data": {
            "text/plain": [
              "CustomerID                0\n",
              "Gender                    0\n",
              "Age                       0\n",
              "Annual Income (k$)        0\n",
              "Spending Score (1-100)    0\n",
              "dtype: int64"
            ],
            "text/html": [
              "<div>\n",
              "<style scoped>\n",
              "    .dataframe tbody tr th:only-of-type {\n",
              "        vertical-align: middle;\n",
              "    }\n",
              "\n",
              "    .dataframe tbody tr th {\n",
              "        vertical-align: top;\n",
              "    }\n",
              "\n",
              "    .dataframe thead th {\n",
              "        text-align: right;\n",
              "    }\n",
              "</style>\n",
              "<table border=\"1\" class=\"dataframe\">\n",
              "  <thead>\n",
              "    <tr style=\"text-align: right;\">\n",
              "      <th></th>\n",
              "      <th>0</th>\n",
              "    </tr>\n",
              "  </thead>\n",
              "  <tbody>\n",
              "    <tr>\n",
              "      <th>CustomerID</th>\n",
              "      <td>0</td>\n",
              "    </tr>\n",
              "    <tr>\n",
              "      <th>Gender</th>\n",
              "      <td>0</td>\n",
              "    </tr>\n",
              "    <tr>\n",
              "      <th>Age</th>\n",
              "      <td>0</td>\n",
              "    </tr>\n",
              "    <tr>\n",
              "      <th>Annual Income (k$)</th>\n",
              "      <td>0</td>\n",
              "    </tr>\n",
              "    <tr>\n",
              "      <th>Spending Score (1-100)</th>\n",
              "      <td>0</td>\n",
              "    </tr>\n",
              "  </tbody>\n",
              "</table>\n",
              "</div><br><label><b>dtype:</b> int64</label>"
            ]
          },
          "metadata": {},
          "execution_count": 60
        }
      ]
    },
    {
      "cell_type": "code",
      "source": [
        "# Chọn các cột để phân cụm\n",
        "X = df.iloc[:, [3, 4]].values  # Điều chỉnh chỉ số cột theo dữ liệu của bạn"
      ],
      "metadata": {
        "id": "wkZ1vuWsVmDo"
      },
      "execution_count": 82,
      "outputs": []
    },
    {
      "cell_type": "code",
      "source": [
        "# Chuẩn hóa dữ liệu\n",
        "scaler = StandardScaler()\n",
        "X_scaled = scaler.fit_transform(X)"
      ],
      "metadata": {
        "id": "K0uWYvsd_476"
      },
      "execution_count": 83,
      "outputs": []
    },
    {
      "cell_type": "markdown",
      "source": [
        "training model"
      ],
      "metadata": {
        "id": "soVzVSPJ7EAi"
      }
    },
    {
      "cell_type": "code",
      "source": [
        "# Phương pháp Elbow để xác định số cụm tối ưu\n",
        "wcss = []\n",
        "for i in range(1, 11):\n",
        "    kmeans = KMeans(n_clusters=i, init='k-means++', random_state=42)\n",
        "    kmeans.fit(X_scaled)\n",
        "    wcss.append(kmeans.inertia_)"
      ],
      "metadata": {
        "id": "4DmMPh7eVrcu"
      },
      "execution_count": 84,
      "outputs": []
    },
    {
      "cell_type": "code",
      "source": [
        "#Visualizing the ELBOW method to get the optimal value of K\n",
        "plt.plot(range(1,11), wcss)\n",
        "plt.title('The Elbow Method')\n",
        "plt.xlabel('no of clusters')\n",
        "plt.ylabel('wcss')\n",
        "plt.show()"
      ],
      "metadata": {
        "colab": {
          "base_uri": "https://localhost:8080/",
          "height": 472
        },
        "id": "HEpwBAnXVHI_",
        "outputId": "61b3a87d-578d-41a1-d4cd-5860d3d09ccf"
      },
      "execution_count": 85,
      "outputs": [
        {
          "output_type": "display_data",
          "data": {
            "text/plain": [
              "<Figure size 640x480 with 1 Axes>"
            ],
            "image/png": "[encoded data removed]"
          },
          "metadata": {}
        }
      ]
    },
    {
      "cell_type": "code",
      "source": [
        "# Số cụm tối ưu\n",
        "optimal_k = 5\n",
        "\n",
        "# Thực hiện phân cụm K-means với số cụm tối ưu\n",
        "kmeans_final = KMeans(n_clusters=optimal_k, init='k-means++', random_state=42)\n",
        "clusters = kmeans_final.fit_predict(X_scaled)\n"
      ],
      "metadata": {
        "id": "UvIELhBR6A5m"
      },
      "execution_count": 86,
      "outputs": []
    },
    {
      "cell_type": "code",
      "source": [
        "# Thêm nhãn cụm vào DataFrame\n",
        "df['Cluster'] = clusters\n",
        "\n",
        "# Tính toán thống kê mô tả cho từng cụm\n",
        "cluster_summary = df.groupby('Cluster').agg({\n",
        "    'Annual Income (k$)': ['mean', 'std', 'min', 'max'],\n",
        "    'Spending Score (1-100)': ['mean', 'std', 'min', 'max']\n",
        "})"
      ],
      "metadata": {
        "id": "o2SbGNDM9wbX"
      },
      "execution_count": 87,
      "outputs": []
    },
    {
      "cell_type": "code",
      "source": [
        "# Hiển thị bảng thống kê\n",
        "print(cluster_summary)"
      ],
      "metadata": {
        "colab": {
          "base_uri": "https://localhost:8080/"
        },
        "id": "9eJJNcoyAzKN",
        "outputId": "3644e2c0-160d-44a5-9682-38760795cdf1"
      },
      "execution_count": 88,
      "outputs": [
        {
          "output_type": "stream",
          "name": "stdout",
          "text": [
            "        Annual Income (k$)                     Spending Score (1-100)  \\\n",
            "                      mean        std min  max                   mean   \n",
            "Cluster                                                                 \n",
            "0                55.296296   8.988109  39   76              49.518519   \n",
            "1                86.538462  16.312485  69  137              82.128205   \n",
            "2                25.727273   7.566731  15   39              79.363636   \n",
            "3                88.200000  16.399067  70  137              17.114286   \n",
            "4                26.304348   7.893811  15   39              20.913043   \n",
            "\n",
            "                            \n",
            "               std min max  \n",
            "Cluster                     \n",
            "0         6.530909  34  61  \n",
            "1         9.364489  63  97  \n",
            "2        10.504174  61  99  \n",
            "3         9.952154   1  39  \n",
            "4        13.017167   3  40  \n"
          ]
        }
      ]
    },
    {
      "cell_type": "code",
      "source": [
        "#Visualizing all the clusters\n",
        "\n",
        "plt.figure(figsize=(10, 6))\n",
        "plt.scatter(X_scaled[:, 0], X_scaled[:, 1], c=df['Cluster'], cmap='viridis', s=100)\n",
        "plt.scatter(kmeans.cluster_centers_[:, 0], kmeans.cluster_centers_[:, 1], s = 300, c = 'red', label = 'Centroids')\n",
        "plt.xlabel('Annual Income (k$) (scaled)')\n",
        "plt.ylabel('Spending Score (1-100) (scaled)')\n",
        "plt.title('K-means Clustering Results')\n",
        "plt.colorbar(label='Cluster')\n",
        "plt.grid(True)\n",
        "plt.show()"
      ],
      "metadata": {
        "id": "BX4Qgko8WSnx",
        "outputId": "d86858cb-4200-4676-f786-292f4c7fcf59",
        "colab": {
          "base_uri": "https://localhost:8080/",
          "height": 564
        }
      },
      "execution_count": 94,
      "outputs": [
        {
          "output_type": "display_data",
          "data": {
            "text/plain": [
              "<Figure size 1000x600 with 2 Axes>"
            ],
            "image/png": "[encoded data removed]"
          },
          "metadata": {}
        }
      ]
    },
    {
      "cell_type": "code",
      "source": [
        "# Nhóm khách hàng theo cụm\n",
        "cluster_groups = df.groupby('Cluster')\n",
        "\n",
        "# In ra danh sách khách hàng trong từng cụm\n",
        "for cluster_number, group in cluster_groups:\n",
        "    print(f\"\\nDanh sách khách hàng trong cụm {cluster_number}:\")\n",
        "    print(group[['CustomerID','Age', 'Annual Income (k$)', 'Spending Score (1-100)']])  # Thay đổi các cột theo nhu cầu\n"
      ],
      "metadata": {
        "colab": {
          "base_uri": "https://localhost:8080/"
        },
        "id": "LDsrDSqgZRXL",
        "outputId": "04d68e29-77ac-41fc-fd4b-834807e9646b"
      },
      "execution_count": 91,
      "outputs": [
        {
          "output_type": "stream",
          "name": "stdout",
          "text": [
            "\n",
            "Danh sách khách hàng trong cụm 0:\n",
            "     CustomerID  Age  Annual Income (k$)  Spending Score (1-100)\n",
            "43           44   31                  39                      61\n",
            "46           47   50                  40                      55\n",
            "47           48   27                  40                      47\n",
            "48           49   29                  40                      42\n",
            "49           50   31                  40                      42\n",
            "..          ...  ...                 ...                     ...\n",
            "121         122   38                  67                      40\n",
            "122         123   40                  69                      58\n",
            "126         127   43                  71                      35\n",
            "132         133   25                  72                      34\n",
            "142         143   28                  76                      40\n",
            "\n",
            "[81 rows x 4 columns]\n",
            "\n",
            "Danh sách khách hàng trong cụm 1:\n",
            "     CustomerID  Age  Annual Income (k$)  Spending Score (1-100)\n",
            "123         124   39                  69                      91\n",
            "125         126   31                  70                      77\n",
            "127         128   40                  71                      95\n",
            "129         130   38                  71                      75\n",
            "131         132   39                  71                      75\n",
            "133         134   31                  72                      71\n",
            "135         136   29                  73                      88\n",
            "137         138   32                  73                      73\n",
            "139         140   35                  74                      72\n",
            "141         142   32                  75                      93\n",
            "143         144   32                  76                      87\n",
            "145         146   28                  77                      97\n",
            "147         148   32                  77                      74\n",
            "149         150   34                  78                      90\n",
            "151         152   39                  78                      88\n",
            "153         154   38                  78                      76\n",
            "155         156   27                  78                      89\n",
            "157         158   30                  78                      78\n",
            "159         160   30                  78                      73\n",
            "161         162   29                  79                      83\n",
            "163         164   31                  81                      93\n",
            "165         166   36                  85                      75\n",
            "167         168   33                  86                      95\n",
            "169         170   32                  87                      63\n",
            "171         172   28                  87                      75\n",
            "173         174   36                  87                      92\n",
            "175         176   30                  88                      86\n",
            "177         178   27                  88                      69\n",
            "179         180   35                  93                      90\n",
            "181         182   32                  97                      86\n",
            "183         184   29                  98                      88\n",
            "185         186   30                  99                      97\n",
            "187         188   28                 101                      68\n",
            "189         190   36                 103                      85\n",
            "191         192   32                 103                      69\n",
            "193         194   38                 113                      91\n",
            "195         196   35                 120                      79\n",
            "197         198   32                 126                      74\n",
            "199         200   30                 137                      83\n",
            "\n",
            "Danh sách khách hàng trong cụm 2:\n",
            "    CustomerID  Age  Annual Income (k$)  Spending Score (1-100)\n",
            "1            2   21                  15                      81\n",
            "3            4   23                  16                      77\n",
            "5            6   22                  17                      76\n",
            "7            8   23                  18                      94\n",
            "9           10   30                  19                      72\n",
            "11          12   35                  19                      99\n",
            "13          14   24                  20                      77\n",
            "15          16   22                  20                      79\n",
            "17          18   20                  21                      66\n",
            "19          20   35                  23                      98\n",
            "21          22   25                  24                      73\n",
            "23          24   31                  25                      73\n",
            "25          26   29                  28                      82\n",
            "27          28   35                  28                      61\n",
            "29          30   23                  29                      87\n",
            "31          32   21                  30                      73\n",
            "33          34   18                  33                      92\n",
            "35          36   21                  33                      81\n",
            "37          38   30                  34                      73\n",
            "39          40   20                  37                      75\n",
            "41          42   24                  38                      92\n",
            "45          46   24                  39                      65\n",
            "\n",
            "Danh sách khách hàng trong cụm 3:\n",
            "     CustomerID  Age  Annual Income (k$)  Spending Score (1-100)\n",
            "124         125   23                  70                      29\n",
            "128         129   59                  71                      11\n",
            "130         131   47                  71                       9\n",
            "134         135   20                  73                       5\n",
            "136         137   44                  73                       7\n",
            "138         139   19                  74                      10\n",
            "140         141   57                  75                       5\n",
            "144         145   25                  77                      12\n",
            "146         147   48                  77                      36\n",
            "148         149   34                  78                      22\n",
            "150         151   43                  78                      17\n",
            "152         153   44                  78                      20\n",
            "154         155   47                  78                      16\n",
            "156         157   37                  78                       1\n",
            "158         159   34                  78                       1\n",
            "160         161   56                  79                      35\n",
            "162         163   19                  81                       5\n",
            "164         165   50                  85                      26\n",
            "166         167   42                  86                      20\n",
            "168         169   36                  87                      27\n",
            "170         171   40                  87                      13\n",
            "172         173   36                  87                      10\n",
            "174         175   52                  88                      13\n",
            "176         177   58                  88                      15\n",
            "178         179   59                  93                      14\n",
            "180         181   37                  97                      32\n",
            "182         183   46                  98                      15\n",
            "184         185   41                  99                      39\n",
            "186         187   54                 101                      24\n",
            "188         189   41                 103                      17\n",
            "190         191   34                 103                      23\n",
            "192         193   33                 113                       8\n",
            "194         195   47                 120                      16\n",
            "196         197   45                 126                      28\n",
            "198         199   32                 137                      18\n",
            "\n",
            "Danh sách khách hàng trong cụm 4:\n",
            "    CustomerID  Age  Annual Income (k$)  Spending Score (1-100)\n",
            "0            1   19                  15                      39\n",
            "2            3   20                  16                       6\n",
            "4            5   31                  17                      40\n",
            "6            7   35                  18                       6\n",
            "8            9   64                  19                       3\n",
            "10          11   67                  19                      14\n",
            "12          13   58                  20                      15\n",
            "14          15   37                  20                      13\n",
            "16          17   35                  21                      35\n",
            "18          19   52                  23                      29\n",
            "20          21   35                  24                      35\n",
            "22          23   46                  25                       5\n",
            "24          25   54                  28                      14\n",
            "26          27   45                  28                      32\n",
            "28          29   40                  29                      31\n",
            "30          31   60                  30                       4\n",
            "32          33   53                  33                       4\n",
            "34          35   49                  33                      14\n",
            "36          37   42                  34                      17\n",
            "38          39   36                  37                      26\n",
            "40          41   65                  38                      35\n",
            "42          43   48                  39                      36\n",
            "44          45   49                  39                      28\n"
          ]
        }
      ]
    }
  ]
}